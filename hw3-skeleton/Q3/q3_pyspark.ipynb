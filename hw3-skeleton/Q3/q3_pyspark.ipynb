{
 "cells": [
  {
   "cell_type": "markdown",
   "metadata": {},
   "source": [
    "# HW3 - Q3 [35 pts]"
   ]
  },
  {
   "cell_type": "markdown",
   "metadata": {},
   "source": [
    "## Important Notices\n",
    "\n",
    "<div class=\"alert alert-block alert-danger\">\n",
    "    WARNING: Do <strong>NOT</strong> add any cells to this Jupyter Notebook, because that will crash the autograder.\n",
    "</div>\n",
    "\n",
    "<div class=\"alert alert-block alert-danger\">\n",
    "    WARNING: Do <strong>NOT</strong> implement any additional libraries into this workbook.\n",
    "</div>\n",
    "\n",
    "All instructions, code comments, etc. in this notebook **are part of the assignment instructions**. That is, if there is instructions about completing a task in this notebook, that task is not optional.  \n",
    "\n",
    "<div class=\"alert alert-block alert-info\">\n",
    "    You <strong>must</strong> implement the following functions in this notebook to receive credit.\n",
    "</div>\n",
    "\n",
    "`user()`\n",
    "\n",
    "`bucket()`\n",
    "\n",
    "`long_trips()`\n",
    "\n",
    "`manhattan_trips()`\n",
    "\n",
    "`weighted_profit()`\n",
    "\n",
    "`final_output()`\n",
    "\n",
    "Each method will be auto-graded using different sets of parameters or data, to ensure that values are not hard-coded.  You may assume we will only use your code to work with data from the NYC-TLC dataset during auto-grading.\n",
    "\n",
    "<div class=\"alert alert-block alert-danger\">\n",
    "    WARNING: Do <strong>NOT</strong> remove or modify the following utility functions:\n",
    "</div>\n",
    "\n",
    "`load_data()`\n",
    "\n",
    "`main()`"
   ]
  },
  {
   "cell_type": "markdown",
   "metadata": {},
   "source": [
    "<div class=\"alert alert-block alert-info\">\n",
    "    Do <strong>not</strong> change the below cell. Run it to initialize your PySpark instance. If you don't get any output, make sure your Notebook's Kernel is set to \"PySpark\" in the top right corner.\n",
    "</div>"
   ]
  },
  {
   "cell_type": "code",
   "execution_count": 1,
   "metadata": {},
   "outputs": [
    {
     "data": {
      "application/vnd.jupyter.widget-view+json": {
       "model_id": "b3fbeba5c99543d0a3924a022e9e81fe",
       "version_major": 2,
       "version_minor": 0
      },
      "text/plain": [
       "VBox()"
      ]
     },
     "metadata": {},
     "output_type": "display_data"
    },
    {
     "name": "stdout",
     "output_type": "stream",
     "text": [
      "Starting Spark application\n"
     ]
    },
    {
     "data": {
      "text/html": [
       "<table>\n",
       "<tr><th>ID</th><th>YARN Application ID</th><th>Kind</th><th>State</th><th>Spark UI</th><th>Driver log</th><th>Current session?</th></tr><tr><td>3</td><td>application_1615868736410_0004</td><td>pyspark</td><td>idle</td><td><a target=\"_blank\" href=\"http://ip-172-31-38-172.ec2.internal:20888/proxy/application_1615868736410_0004/\" class=\"emr-proxy-link\" emr-resource=\"j-13HJ5QPV3GN3K\n",
       "\" application-id=\"application_1615868736410_0004\">Link</a></td><td><a target=\"_blank\" href=\"http://ip-172-31-34-47.ec2.internal:8042/node/containerlogs/container_1615868736410_0004_01_000001/livy\" >Link</a></td><td>✔</td></tr></table>"
      ],
      "text/plain": [
       "<IPython.core.display.HTML object>"
      ]
     },
     "metadata": {},
     "output_type": "display_data"
    },
    {
     "data": {
      "application/vnd.jupyter.widget-view+json": {
       "model_id": "",
       "version_major": 2,
       "version_minor": 0
      },
      "text/plain": [
       "FloatProgress(value=0.0, bar_style='info', description='Progress:', layout=Layout(height='25px', width='50%'),…"
      ]
     },
     "metadata": {},
     "output_type": "display_data"
    },
    {
     "name": "stdout",
     "output_type": "stream",
     "text": [
      "SparkSession available as 'spark'.\n"
     ]
    },
    {
     "data": {
      "application/vnd.jupyter.widget-view+json": {
       "model_id": "",
       "version_major": 2,
       "version_minor": 0
      },
      "text/plain": [
       "FloatProgress(value=0.0, bar_style='info', description='Progress:', layout=Layout(height='25px', width='50%'),…"
      ]
     },
     "metadata": {},
     "output_type": "display_data"
    },
    {
     "name": "stdout",
     "output_type": "stream",
     "text": [
      "<SparkContext master=yarn appName=livy-session-3>"
     ]
    }
   ],
   "source": [
    "sc"
   ]
  },
  {
   "cell_type": "markdown",
   "metadata": {},
   "source": [
    "<div class=\"alert alert-block alert-danger\">\n",
    "    WARNING: Do <strong>NOT</strong> remodify the below cell. It contains the function for loading data and all imports, and the function for running your code.\n",
    "</div>"
   ]
  },
  {
   "cell_type": "code",
   "execution_count": 46,
   "metadata": {},
   "outputs": [
    {
     "data": {
      "application/vnd.jupyter.widget-view+json": {
       "model_id": "7d5737eed5f740b4997b7eef2a1534ce",
       "version_major": 2,
       "version_minor": 0
      },
      "text/plain": [
       "VBox()"
      ]
     },
     "metadata": {},
     "output_type": "display_data"
    },
    {
     "data": {
      "application/vnd.jupyter.widget-view+json": {
       "model_id": "",
       "version_major": 2,
       "version_minor": 0
      },
      "text/plain": [
       "FloatProgress(value=0.0, bar_style='info', description='Progress:', layout=Layout(height='25px', width='50%'),…"
      ]
     },
     "metadata": {},
     "output_type": "display_data"
    }
   ],
   "source": [
    "#### DO NOT CHANGE ANYTHING IN THIS CELL ####\n",
    "\n",
    "from pyspark.sql.functions import col\n",
    "from pyspark.sql import *\n",
    "\n",
    "def load_data(size='small'):\n",
    "    # Loads the data for this question. Do not change this function.\n",
    "    # This function should only be called with the parameter 'small' or 'large'\n",
    "    \n",
    "    if size != 'small' and size != 'large':\n",
    "        print(\"Invalid size parameter provided. Use only 'small' or 'large'.\")\n",
    "        return\n",
    "    \n",
    "    input_bucket = \"s3://cse6242-spring2021\"\n",
    "    \n",
    "    # Load Trip Data\n",
    "    trip_path = '/'+size+'/yellow_tripdata*'\n",
    "    trips = spark.read.csv(input_bucket + trip_path, header=True, inferSchema=True)\n",
    "    print(\"Trip Count: \",trips.count()) # Prints # of trips (# of records, as each record is one trip)\n",
    "    \n",
    "    # Load Lookup Data\n",
    "    lookup_path = '/'+size+'/taxi*'\n",
    "    lookup = spark.read.csv(input_bucket + lookup_path, header=True, inferSchema=True)\n",
    "    \n",
    "    return trips, lookup\n",
    "\n",
    "def main(size, bucket):\n",
    "    # Runs your functions implemented above.\n",
    "    \n",
    "    print(user())\n",
    "    trips, lookup = load_data(size=size)\n",
    "    trips = long_trips(trips)\n",
    "    mtrips = manhattan_trips(trips, lookup)\n",
    "    wp = weighted_profit(trips, mtrips)\n",
    "    final = final_output(wp,lookup)\n",
    "    \n",
    "    # Outputs the results for you to visually see\n",
    "    final.show()\n",
    "    \n",
    "    # Writes out as a CSV to your bucket.\n",
    "    final.write.csv(bucket)"
   ]
  },
  {
   "cell_type": "markdown",
   "metadata": {},
   "source": [
    "# Implement the below functions for this assignment:\n",
    "<div class=\"alert alert-block alert-danger\">\n",
    "    WARNING: Do <strong>NOT</strong> change any function inputs or outputs, and ensure that the dataframes your code returns align with the schema definitions commented in each function\n",
    "</div>"
   ]
  },
  {
   "cell_type": "markdown",
   "metadata": {},
   "source": [
    "## 3a. [1 pt] Update the `user()` function\n",
    "This function should return your GT username, eg: gburdell3"
   ]
  },
  {
   "cell_type": "code",
   "execution_count": 47,
   "metadata": {},
   "outputs": [
    {
     "data": {
      "application/vnd.jupyter.widget-view+json": {
       "model_id": "2bbe0ed3bc964f6c8cbc21a2e98153b6",
       "version_major": 2,
       "version_minor": 0
      },
      "text/plain": [
       "VBox()"
      ]
     },
     "metadata": {},
     "output_type": "display_data"
    },
    {
     "data": {
      "application/vnd.jupyter.widget-view+json": {
       "model_id": "",
       "version_major": 2,
       "version_minor": 0
      },
      "text/plain": [
       "FloatProgress(value=0.0, bar_style='info', description='Progress:', layout=Layout(height='25px', width='50%'),…"
      ]
     },
     "metadata": {},
     "output_type": "display_data"
    }
   ],
   "source": [
    "def user():\n",
    "    # Returns a string consisting of your GT username.\n",
    "    return 'rsoliman3'"
   ]
  },
  {
   "cell_type": "markdown",
   "metadata": {},
   "source": [
    "## 3b. [2 pts] Update the `long_trips()` function\n",
    "This function filters trips to keep only trips greater than or equal to 2 miles."
   ]
  },
  {
   "cell_type": "code",
   "execution_count": 48,
   "metadata": {},
   "outputs": [
    {
     "data": {
      "application/vnd.jupyter.widget-view+json": {
       "model_id": "d2b4e17dbe7f414db3f6f76f7266be7d",
       "version_major": 2,
       "version_minor": 0
      },
      "text/plain": [
       "VBox()"
      ]
     },
     "metadata": {},
     "output_type": "display_data"
    },
    {
     "data": {
      "application/vnd.jupyter.widget-view+json": {
       "model_id": "",
       "version_major": 2,
       "version_minor": 0
      },
      "text/plain": [
       "FloatProgress(value=0.0, bar_style='info', description='Progress:', layout=Layout(height='25px', width='50%'),…"
      ]
     },
     "metadata": {},
     "output_type": "display_data"
    }
   ],
   "source": [
    "def long_trips(trips):\n",
    "    # Returns a Dataframe with Schema the same as :trips:\n",
    "    filtered_trips = trips.filter(col(\"Trip_distance\") >= 2)\n",
    "    #filtered_trips.show()\n",
    "    return filtered_trips\n",
    "    pass\n",
    "\n"
   ]
  },
  {
   "cell_type": "markdown",
   "metadata": {},
   "source": [
    "## 3c. [6 pts] Update the `manhattan_trips()` function\n",
    "\n",
    "This function determines the top 20 locations with a `DOLocationID` in manhattan by passenger_count (pcount).\n",
    "\n",
    "Example output formatting:\n",
    "\n",
    "```\n",
    "+--------------+--------+\n",
    "| DOLocationID | pcount |\n",
    "+--------------+--------+\n",
    "|             5|      15|\n",
    "|            16|      12| \n",
    "+--------------+--------+\n",
    "```"
   ]
  },
  {
   "cell_type": "code",
   "execution_count": 49,
   "metadata": {},
   "outputs": [
    {
     "data": {
      "application/vnd.jupyter.widget-view+json": {
       "model_id": "8bbdd46491e9429fb75c6ffa4b912802",
       "version_major": 2,
       "version_minor": 0
      },
      "text/plain": [
       "VBox()"
      ]
     },
     "metadata": {},
     "output_type": "display_data"
    },
    {
     "data": {
      "application/vnd.jupyter.widget-view+json": {
       "model_id": "",
       "version_major": 2,
       "version_minor": 0
      },
      "text/plain": [
       "FloatProgress(value=0.0, bar_style='info', description='Progress:', layout=Layout(height='25px', width='50%'),…"
      ]
     },
     "metadata": {},
     "output_type": "display_data"
    }
   ],
   "source": [
    "def manhattan_trips(trips, lookup):\n",
    "    # Returns a Dataframe with Schema: DOLocationID, pcount\n",
    "    #from pyspark.sql.types import IntegerType\n",
    "    #from pyspark.sql.functions import sum\n",
    "    \n",
    "    lookup = lookup.filter(col(\"Borough\") == \"Manhattan\")\n",
    "    joined = trips.join(lookup, trips.DOLocationID == lookup.LocationID)\\\n",
    "    manhatten_pcount =  joined.groupBy(\"DOLocationID\").agg({\"passenger_count\": \"sum\" })\\\n",
    "                        .withColumnRenamed(\"sum(passenger_count)\", \"pcount\")\\\n",
    "                       .orderBy(col(\"pcount\").desc()).limit(20)\n",
    "    return manhatten_pcount\n",
    "    pass"
   ]
  },
  {
   "cell_type": "markdown",
   "metadata": {},
   "source": [
    "## 3d. [6 pts] Update the `weighted_profit()` function\n",
    "This function should determine the average `total_amount`, the total count of trips, and the total count of trips ending in the top 20 destinations and return the `weighted_profit` as discussed in the homework document.\n",
    "\n",
    "Example output formatting:\n",
    "```\n",
    "+--------------+-------------------+\n",
    "| PULocationID |  weighted_profit  |\n",
    "+--------------+-------------------+\n",
    "|            18| 33.784444421924436| \n",
    "|            12| 21.124577637149223| \n",
    "+--------------+-------------------+\n",
    "```"
   ]
  },
  {
   "cell_type": "code",
   "execution_count": 50,
   "metadata": {},
   "outputs": [
    {
     "data": {
      "application/vnd.jupyter.widget-view+json": {
       "model_id": "1189107973464bab822556926e2690ad",
       "version_major": 2,
       "version_minor": 0
      },
      "text/plain": [
       "VBox()"
      ]
     },
     "metadata": {},
     "output_type": "display_data"
    },
    {
     "data": {
      "application/vnd.jupyter.widget-view+json": {
       "model_id": "",
       "version_major": 2,
       "version_minor": 0
      },
      "text/plain": [
       "FloatProgress(value=0.0, bar_style='info', description='Progress:', layout=Layout(height='25px', width='50%'),…"
      ]
     },
     "metadata": {},
     "output_type": "display_data"
    }
   ],
   "source": [
    "def weighted_profit(trips, mtrips): \n",
    "    # Returns a Dataframe with Schema: PULocationID, weighted_profit\n",
    "    # Note: Use decimal datatype for weighted profit (NOTE: DON'T USE FLOAT)\n",
    "    # Our grader will be only be checking the first 8 characters for each value in the dataframe\n",
    "    pu_agg_avg = trips.groupBy(\"PULocationID\").agg({\"total_amount\":\"avg\"})\\\n",
    "                 .withColumnRenamed(\"avg(total_amount)\",\"avg_total_amount\")\n",
    "                 \n",
    "    pu_agg_count = trips.groupBy(\"PULocationID\").agg({\"*\": \"count\"})\\\n",
    "                   .withColumnRenamed(\"count(1)\",\"count_DO\")\\\n",
    "                   .withColumnRenamed(\"PULocationID\",\"PULocationID_cp1\")\n",
    "    \n",
    "    ma_trips_join = mtrips.join(trips, mtrips.DOLocationID == trips.DOLocationID )\n",
    "    PU_topDU_grouped = ma_trips_join.groupBy(\"PULocationID\").agg({\"*\": \"count\"})\\\n",
    "                       .withColumnRenamed(\"count(1)\",\"count_DO_To_Popular\")\\\n",
    "                       .withColumnRenamed(\"PULocationID\",\"PULocationID_cp2\")\n",
    "    \n",
    "    all_joined = pu_agg_avg.join(pu_agg_count, pu_agg_avg.PULocationID == pu_agg_count.PULocationID_cp1).join(PU_topDU_grouped, pu_agg_count.PULocationID_cp1 == PU_topDU_grouped.PULocationID_cp2)\\\n",
    "                 .drop(col(\"PULocationID_cp1\")).drop(col(\"PULocationID_cp2\"))\\\n",
    "                 .withColumn(\"weighted_profit\", (col(\"count_DO_To_Popular\")/ col(\"count_DO\"))*col(\"avg_total_amount\"))\\\n",
    "                 .drop(col(\"count_DO_To_Popular\")).drop(col(\"count_DO\")).drop(col(\"avg_total_amount\"))\\\n",
    "                 .orderBy(col(\"weighted_profit\").desc())\n",
    "    return all_joined\n",
    "    pass"
   ]
  },
  {
   "cell_type": "markdown",
   "metadata": {},
   "source": [
    "## 3e. [5 pts] Update the `final_output()` function\n",
    "This function will take the results of `weighted_profit`, links it to the `borough` and `zone` and returns the top 20 locations with the highest `weighted_profit`.\n",
    "\n",
    "Example output formatting:\n",
    "```\n",
    "+------------+---------+-------------------+\n",
    "|    Zone    | Borough |  weighted_profit  |\n",
    "+----------------------+-------------------+\n",
    "| JFK Airport|   Queens|  16.95897820117925|\n",
    "|     Jamaica|   Queens| 14.879835188762488|\n",
    "+------------+---------+-------------------+\n",
    "```"
   ]
  },
  {
   "cell_type": "code",
   "execution_count": 51,
   "metadata": {},
   "outputs": [
    {
     "data": {
      "application/vnd.jupyter.widget-view+json": {
       "model_id": "ae3a96b80e7540bf91b2b1c29c49a7bb",
       "version_major": 2,
       "version_minor": 0
      },
      "text/plain": [
       "VBox()"
      ]
     },
     "metadata": {},
     "output_type": "display_data"
    },
    {
     "data": {
      "application/vnd.jupyter.widget-view+json": {
       "model_id": "",
       "version_major": 2,
       "version_minor": 0
      },
      "text/plain": [
       "FloatProgress(value=0.0, bar_style='info', description='Progress:', layout=Layout(height='25px', width='50%'),…"
      ]
     },
     "metadata": {},
     "output_type": "display_data"
    }
   ],
   "source": [
    "def final_output(calc, lookup): \n",
    "    # Returns a Dataframe with Schema: Zone, Borough, weighted_profit\n",
    "    # Note: Use decimal datatype for weighted profit (NOTE: DON'T USE FLOAT)\n",
    "    # Our grader will be only be checking the first 8 characters for each value in the dataframe\n",
    "    final = calc.join(lookup, calc.PULocationID == lookup.LocationID )\\\n",
    "            .drop(col(\"PULocationID\")).drop(col(\"LocationID\")).drop(col(\"service_zone\"))\\\n",
    "            .orderBy(col(\"weighted_profit\").desc()).limit(20)\n",
    "    final_rearranged = final.select(\"Zone\", \"Borough\", \"weighted_profit\")\n",
    "    return final_rearranged\n",
    "    pass"
   ]
  },
  {
   "cell_type": "markdown",
   "metadata": {},
   "source": [
    "<div class=\"alert alert-block alert-info\">\n",
    "    Test your code on the small dataset first, as the large dataset will take a significantly longer time to run\n",
    "</div>\n",
    "\n",
    "<div class=\"alert alert-block alert-danger\">\n",
    "    WARNING: Do <strong>NOT</strong> use the same bucket url for multiple runs of the `main()` function, as this will cause errors. Make sure to change the name of your output location every time. (ie: s3://cse6242-gburdell3/output-small2)\n",
    "</div>\n",
    "\n",
    "Update the below cell with the path to your bucket, then run the below cell to run your code to store the results in S3.\n",
    "\n",
    "When you have confirmed the results of the small dataset, run it again using the large dataset. Your output file will appear in a folder in your s3 bucket called YOUROUTPUT.csv as a csv file with a name something like part-0000-4d992f7a-0ad3-48f8-8c72-0022984e4b50-c000.csv. Download this file and rename it to q3_output.csv for submission. Do not make any other changes to the file. "
   ]
  },
  {
   "cell_type": "code",
   "execution_count": 56,
   "metadata": {},
   "outputs": [
    {
     "data": {
      "application/vnd.jupyter.widget-view+json": {
       "model_id": "9b54ca9103374c66a60f14f6c6aac4a5",
       "version_major": 2,
       "version_minor": 0
      },
      "text/plain": [
       "VBox()"
      ]
     },
     "metadata": {},
     "output_type": "display_data"
    },
    {
     "data": {
      "application/vnd.jupyter.widget-view+json": {
       "model_id": "",
       "version_major": 2,
       "version_minor": 0
      },
      "text/plain": [
       "FloatProgress(value=0.0, bar_style='info', description='Progress:', layout=Layout(height='25px', width='50%'),…"
      ]
     },
     "metadata": {},
     "output_type": "display_data"
    },
    {
     "name": "stdout",
     "output_type": "stream",
     "text": [
      "rsoliman3\n",
      "Trip Count:  187203269\n",
      "+--------------------+-------------+------------------+\n",
      "|                Zone|      Borough|   weighted_profit|\n",
      "+--------------------+-------------+------------------+\n",
      "|        Baisley Park|       Queens|29.360455779130838|\n",
      "|Flushing Meadows-...|       Queens|27.304845733617668|\n",
      "|       South Jamaica|       Queens| 26.29491623987347|\n",
      "|     Randalls Island|    Manhattan|24.150989940227518|\n",
      "|        Astoria Park|       Queens| 21.70641711214753|\n",
      "|Briarwood/Jamaica...|       Queens| 19.94506463178934|\n",
      "|Springfield Garde...|       Queens|19.468309288781914|\n",
      "|             Jamaica|       Queens|  19.2839430001379|\n",
      "|              Corona|       Queens| 18.22876924815598|\n",
      "|   LaGuardia Airport|       Queens|   18.181338808373|\n",
      "|         Jamaica Bay|       Queens|  17.1005294467579|\n",
      "|             Maspeth|       Queens|17.005450640079545|\n",
      "|Eltingville/Annad...|Staten Island|16.837764756944445|\n",
      "|         JFK Airport|       Queens|16.777725348249636|\n",
      "|        Battery Park|    Manhattan|12.849780311142878|\n",
      "| Morningside Heights|    Manhattan|12.453698026584078|\n",
      "|   Battery Park City|    Manhattan|12.448848404428603|\n",
      "|Greenwich Village...|    Manhattan|12.446949891694041|\n",
      "|       Rikers Island|        Bronx|           12.3063|\n",
      "|  World Trade Center|    Manhattan| 12.29541192413338|\n",
      "+--------------------+-------------+------------------+"
     ]
    }
   ],
   "source": [
    "# update your bucket path\n",
    "#bucket = 's3://cse6242-rsoliman3/output-small4'\n",
    "#main('small', bucket)\n",
    "\n",
    "bucket = 's3://cse6242-rsoliman3/output-large'\n",
    "main('large', bucket)"
   ]
  },
  {
   "cell_type": "markdown",
   "metadata": {},
   "source": [
    "#### Testing\n",
    "\n",
    "<div class=\"alert alert-block alert-info\">\n",
    "    You may use the below cell for any additional testing you need to do, however any code implemented below will not be run or used when grading\n",
    "</div>"
   ]
  },
  {
   "cell_type": "code",
   "execution_count": 45,
   "metadata": {},
   "outputs": [
    {
     "data": {
      "application/vnd.jupyter.widget-view+json": {
       "model_id": "00a7679ebedc49ffa6cae2689d717cc5",
       "version_major": 2,
       "version_minor": 0
      },
      "text/plain": [
       "VBox()"
      ]
     },
     "metadata": {},
     "output_type": "display_data"
    },
    {
     "data": {
      "application/vnd.jupyter.widget-view+json": {
       "model_id": "",
       "version_major": 2,
       "version_minor": 0
      },
      "text/plain": [
       "FloatProgress(value=0.0, bar_style='info', description='Progress:', layout=Layout(height='25px', width='50%'),…"
      ]
     },
     "metadata": {},
     "output_type": "display_data"
    },
    {
     "name": "stdout",
     "output_type": "stream",
     "text": [
      "Trip Count:  7667792\n",
      "root\n",
      " |-- LocationID: integer (nullable = true)\n",
      " |-- Borough: string (nullable = true)\n",
      " |-- Zone: string (nullable = true)\n",
      " |-- service_zone: string (nullable = true)\n",
      "\n",
      "+------------+------------------+\n",
      "|PULocationID|   weighted_profit|\n",
      "+------------+------------------+\n",
      "|           6|31.784444444444446|\n",
      "|          99|29.342499999999998|\n",
      "|         187|24.357777777777777|\n",
      "|          93| 24.33013773166695|\n",
      "|          10|23.624694333498454|\n",
      "|         194| 23.12457751514923|\n",
      "|         215|22.174114939432236|\n",
      "|         156| 21.78655692729767|\n",
      "|         206| 21.49189349112426|\n",
      "|           5|          20.29625|\n",
      "|           8|19.965360000000004|\n",
      "|         138|17.923153949604917|\n",
      "|         171|17.585450424382717|\n",
      "|         132|16.958978201177352|\n",
      "|         130|14.879835188762476|\n",
      "|         105|          14.79625|\n",
      "|          58|14.613195266272191|\n",
      "|         219|14.337175219423653|\n",
      "|         157|13.940437160690957|\n",
      "|          28|13.327861288088645|\n",
      "|          59|13.209640831758033|\n",
      "|         207|13.172401147959185|\n",
      "|          56|12.465364387678434|\n",
      "|         261| 11.30703181144749|\n",
      "|         166|11.193621111617647|\n",
      "|          13|11.172508643512755|\n",
      "|         113|10.951258883203534|\n",
      "|         237|10.818618512310627|\n",
      "|          41|10.773341612427059|\n",
      "|          24|10.716816801966687|\n",
      "|         107|10.677769405057806|\n",
      "|         231|10.564877143992078|\n",
      "|          12|10.554036603239675|\n",
      "|         151|10.410154566472123|\n",
      "|         234|10.400884866419867|\n",
      "|         246| 10.37120643739268|\n",
      "|         158| 10.36316582466508|\n",
      "|          68|10.280981405101672|\n",
      "|         125|10.247337376194691|\n",
      "|          87|10.238654482756147|\n",
      "|         211| 10.20540241574215|\n",
      "|          88| 10.17662319118776|\n",
      "|         223| 10.13802372979117|\n",
      "|         238|10.123152614859077|\n",
      "|         186| 10.10287509720656|\n",
      "|         114| 9.923960635616643|\n",
      "|         144| 9.872797665031133|\n",
      "|         152| 9.810711000588084|\n",
      "|         226| 9.771207187192088|\n",
      "|         249| 9.735527960101273|\n",
      "|         236| 9.733100318087587|\n",
      "|          43| 9.706791805094875|\n",
      "|         262| 9.672915467952658|\n",
      "|         135| 9.665008709264047|\n",
      "|         224|  9.65201669547265|\n",
      "|          90| 9.563862835185388|\n",
      "|          52| 9.520095308023803|\n",
      "|          75| 9.394296093771876|\n",
      "|         239|  9.30794633992209|\n",
      "|         209|  9.29151592278898|\n",
      "|         143| 9.161717763453717|\n",
      "|          79| 9.158722654381817|\n",
      "|          45| 9.091450800325205|\n",
      "|         100| 9.062504688457116|\n",
      "|          33| 8.909410418968424|\n",
      "|         164| 8.875701924380225|\n",
      "|         170| 8.864451262755898|\n",
      "|         200| 8.810600475624257|\n",
      "|          31| 8.809526627218936|\n",
      "|         116|  8.70076557232767|\n",
      "|         230| 8.660805084748462|\n",
      "|         260| 8.654804437544982|\n",
      "|         161| 8.566077264626035|\n",
      "|         221| 8.506796875000001|\n",
      "|          74| 8.505940869024496|\n",
      "|          42| 8.461427269887558|\n",
      "|          54| 8.423158739195694|\n",
      "|          50|  8.36809375476143|\n",
      "|         145| 8.357528137795804|\n",
      "|         140| 8.288846291440136|\n",
      "|         263|  8.28471151821675|\n",
      "|          40| 8.088883634868424|\n",
      "|         265| 8.066517823450011|\n",
      "|           4| 8.050003981393639|\n",
      "|         243| 7.934042506248547|\n",
      "|         142| 7.905672364298409|\n",
      "|         253| 7.881666666666666|\n",
      "|         137| 7.861883675653693|\n",
      "|          82|7.8520152524960825|\n",
      "|          48| 7.834308769797249|\n",
      "|         162| 7.833756090196926|\n",
      "|         118| 7.799567901234568|\n",
      "|         229| 7.790515617794486|\n",
      "|         163| 7.774714176898352|\n",
      "|         233| 7.730117209298399|\n",
      "|         148| 7.697406151367194|\n",
      "|         183| 7.675082835016173|\n",
      "|         173|  7.56391723356009|\n",
      "|         244|7.4784303559208585|\n",
      "|         193|  7.47028935497745|\n",
      "|         141| 7.387262234964342|\n",
      "|          32| 7.373355102040816|\n",
      "|         122| 7.362530578512396|\n",
      "|          66|7.3279565037971075|\n",
      "|         179| 7.308288840522423|\n",
      "|         232| 7.222900622776243|\n",
      "|         146| 7.127252388334876|\n",
      "|         196| 7.075897391827437|\n",
      "|         205|  6.96914891929407|\n",
      "|         248| 6.904041035694971|\n",
      "|         153|6.7697756788665915|\n",
      "|           7| 6.691099909400312|\n",
      "|          65| 6.630698230351538|\n",
      "|         155|6.6032327895762775|\n",
      "|          29| 6.520803222656252|\n",
      "|          22| 6.443613905268432|\n",
      "|          70| 6.300106354984429|\n",
      "|         258|6.2289176940917965|\n",
      "|          95| 6.195573648361005|\n",
      "|         251| 6.077800000000001|\n",
      "|         257| 6.026096045684112|\n",
      "|          86|5.9873178980228925|\n",
      "|         134| 5.975988630746416|\n",
      "|         202| 5.916379217612679|\n",
      "|          53| 5.876186008230454|\n",
      "|         150| 5.857547169811321|\n",
      "|          21|  5.85597619047619|\n",
      "|         180| 5.842360537190082|\n",
      "|         216| 5.775193166765792|\n",
      "|          38| 5.770723610712119|\n",
      "|         212| 5.725933364112034|\n",
      "|         220| 5.627511253559799|\n",
      "|         182|5.5994967255838795|\n",
      "|         127| 5.594398044788277|\n",
      "|          98| 5.568241326530613|\n",
      "|         195| 5.558850158442734|\n",
      "|         115| 5.537800000000001|\n",
      "|         126| 5.502195387030552|\n",
      "|         213| 5.475416512217077|\n",
      "|           3| 5.461863425925927|\n",
      "|          67| 5.411828673297054|\n",
      "|         210| 5.352912808641974|\n",
      "|          55| 5.243329326923075|\n",
      "|         191| 5.227532839917654|\n",
      "|         117| 5.214443288241415|\n",
      "|          34|5.1903061224489795|\n",
      "|          57| 5.168061224489797|\n",
      "|          85| 5.155044273479459|\n",
      "|          25| 5.129396915299005|\n",
      "|          69|5.1178797248596135|\n",
      "|         259| 5.087036991649305|\n",
      "|          91|  5.02656561351164|\n",
      "|          15| 4.914490625000001|\n",
      "|         136| 4.888131962198684|\n",
      "|         111|4.8291666666666675|\n",
      "|          89| 4.721841659863947|\n",
      "|          51|4.6799341051571846|\n",
      "|         119|4.6610299687825165|\n",
      "|         165| 4.650682621365241|\n",
      "|          77| 4.638679261901616|\n",
      "|         247| 4.608860686123782|\n",
      "|         120| 4.522653061224489|\n",
      "|          14| 4.520858208955222|\n",
      "|          46| 4.518004535147392|\n",
      "|         227| 4.498631432357763|\n",
      "|          62| 4.466649308201661|\n",
      "|         178| 4.461430078727376|\n",
      "|         149| 4.431676818595532|\n",
      "|         123| 4.420740087948868|\n",
      "|          71| 4.410895194156091|\n",
      "|         181|4.3863881975491195|\n",
      "|          16| 4.363184671472822|\n",
      "|          60| 4.362272691675151|\n",
      "|         256| 4.296814816733446|\n",
      "|         250|   4.2831966811822|\n",
      "|         167| 4.268340423052269|\n",
      "|           1| 4.242351020408164|\n",
      "|         175| 4.175801440941239|\n",
      "|         225| 4.126456676957093|\n",
      "|          97| 4.104541534211037|\n",
      "|         190|  4.06727368199958|\n",
      "|         159| 4.020415085016059|\n",
      "|          81| 4.005536332179931|\n",
      "|         255| 3.971690040733133|\n",
      "|         252|3.9661168724279827|\n",
      "|         228| 3.962905586939257|\n",
      "|          39| 3.960648245984783|\n",
      "|         128| 3.920266439909297|\n",
      "|         189| 3.873574772072147|\n",
      "|         160|3.8305770408163267|\n",
      "|         112|  3.80907283049968|\n",
      "|         235| 3.753791262696213|\n",
      "|          78| 3.732472464449081|\n",
      "|         129|3.6901162604152695|\n",
      "|          76| 3.656237522182789|\n",
      "|          63|3.6072640000000002|\n",
      "|         214|3.5817968749999998|\n",
      "|          92| 3.575430190110757|\n",
      "|          11|    3.564404296875|\n",
      "|          83|3.5538426220244386|\n",
      "|         102|3.5526211550687083|\n",
      "|          26|3.5304247433795277|\n",
      "|          49|3.4751267124180996|\n",
      "|         197|3.4739216354028377|\n",
      "|         192|3.4077085768944624|\n",
      "|         168|3.3945748555519524|\n",
      "|          72| 3.371771897984523|\n",
      "|         131|3.3670728836577632|\n",
      "|          18|3.3184775086505196|\n",
      "|         147| 3.317603305785124|\n",
      "|         241| 3.290680158421281|\n",
      "|         169| 3.279546458928081|\n",
      "|          35|3.1424205624543458|\n",
      "|         121|3.1303135126036277|\n",
      "|         101|3.0942460317460307|\n",
      "|         124|2.9698387503149397|\n",
      "|          80| 2.940356932601818|\n",
      "|         218|2.9380747216248606|\n",
      "|         133| 2.915089453360257|\n",
      "|         208| 2.898902447268793|\n",
      "|         188|2.8838640173843775|\n",
      "|          61|2.8501524823921844|\n",
      "|         254|2.8425213017751476|\n",
      "|         154|2.8047626004382766|\n",
      "|         106| 2.785898205433439|\n",
      "|          36| 2.777058125136943|\n",
      "|         108|2.7542279411764703|\n",
      "|          47| 2.714289012003693|\n",
      "|         222| 2.682131638255844|\n",
      "|          94|2.6561979316288427|\n",
      "|         217|2.6487772372030434|\n",
      "|         203| 2.600977800861803|\n",
      "|         139| 2.573820483972464|\n",
      "|          17| 2.559930564322685|\n",
      "|         240|2.4238683127572007|\n",
      "|          96|2.3699999999999997|\n",
      "|          37|2.3007539038979643|\n",
      "|         177| 2.199673930059335|\n",
      "|         198| 2.052593292169965|\n",
      "|          19|1.9030349794238683|\n",
      "|          20|1.8089184412086527|\n",
      "|         242|1.5639247118771584|\n",
      "|         174|1.5435331565759571|\n",
      "|          73| 1.514556213017751|\n",
      "|         185|1.2363824145854903|\n",
      "|         264| 1.016578016560889|\n",
      "|           9|1.0139619883040938|\n",
      "|          64|0.8865495562130177|\n",
      "+------------+------------------+\n",
      "\n",
      "+--------------------+-------------+------------------+\n",
      "|                Zone|      Borough|   weighted_profit|\n",
      "+--------------------+-------------+------------------+\n",
      "|Arrochar/Fort Wad...|Staten Island|31.784444444444446|\n",
      "|     Freshkills Park|Staten Island|29.342499999999998|\n",
      "|       Port Richmond|Staten Island|24.357777777777777|\n",
      "|Flushing Meadows-...|       Queens| 24.33013773166695|\n",
      "|        Baisley Park|       Queens|23.624694333498454|\n",
      "|     Randalls Island|    Manhattan|23.124577515149223|\n",
      "|       South Jamaica|       Queens| 22.17411493943224|\n",
      "|     Mariners Harbor|Staten Island|21.786556927297667|\n",
      "|Saint George/New ...|Staten Island| 21.49189349112426|\n",
      "|       Arden Heights|Staten Island|          20.29625|\n",
      "|        Astoria Park|       Queens|19.965360000000004|\n",
      "|   LaGuardia Airport|       Queens|17.923153949604917|\n",
      "|  Murray Hill-Queens|       Queens|17.585450424382717|\n",
      "|         JFK Airport|       Queens|16.958978201177356|\n",
      "|             Jamaica|       Queens|14.879835188762476|\n",
      "|Governor's Island...|    Manhattan|          14.79625|\n",
      "|        Country Club|        Bronx|14.613195266272191|\n",
      "|Springfield Garde...|       Queens| 14.33717521942365|\n",
      "|             Maspeth|       Queens|13.940437160690957|\n",
      "|Briarwood/Jamaica...|       Queens|13.327861288088643|\n",
      "+--------------------+-------------+------------------+"
     ]
    }
   ],
   "source": [
    "#(trips,lookup)=load_data()\n",
    "#lookup.printSchema()\n",
    "#f_trips = long_trips(trips)\n",
    "#man = manhattan_trips(f_trips,lookup)\n",
    "#man.show()\n",
    "#wp= weighted_profit(f_trips, man)\n",
    "#wp.show(wp.count())\n",
    "#x = final_output(wp,lookup)\n",
    "#x.show()"
   ]
  },
  {
   "cell_type": "code",
   "execution_count": null,
   "metadata": {},
   "outputs": [],
   "source": []
  },
  {
   "cell_type": "code",
   "execution_count": null,
   "metadata": {},
   "outputs": [],
   "source": []
  }
 ],
 "metadata": {
  "kernelspec": {
   "display_name": "PySpark",
   "language": "",
   "name": "pysparkkernel"
  },
  "language_info": {
   "codemirror_mode": {
    "name": "python",
    "version": 3
   },
   "mimetype": "text/x-python",
   "name": "pyspark",
   "pygments_lexer": "python3"
  }
 },
 "nbformat": 4,
 "nbformat_minor": 4
}
